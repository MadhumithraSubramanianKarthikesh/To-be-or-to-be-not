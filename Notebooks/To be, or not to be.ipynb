{
 "cells": [
  {
   "cell_type": "markdown",
   "metadata": {},
   "source": [
    "# Jimmy Wrangler, Data Explorer"
   ]
  },
  {
   "cell_type": "markdown",
   "metadata": {},
   "source": [
    "### __1. INDUSTRY__ "
   ]
  },
  {
   "cell_type": "markdown",
   "metadata": {},
   "source": [
    "__Literature__ industry is assigned."
   ]
  },
  {
   "cell_type": "markdown",
   "metadata": {},
   "source": [
    "### __2. DATA SETS__"
   ]
  },
  {
   "cell_type": "markdown",
   "metadata": {},
   "source": [
    "__2.1. SOURCE__: The dataset is from [Kaggle](https://www.kaggle.com/datasets) in [this link](https://www.kaggle.com/kingburrito666/shakespeare-plays)."
   ]
  },
  {
   "cell_type": "markdown",
   "metadata": {},
   "source": [
    "__DESCRIPTION__: The dataset contains about one hundred thousand data with attributes related to shakespeare's plays. The following attributes from the dataset will be used for analysis."
   ]
  },
  {
   "cell_type": "markdown",
   "metadata": {},
   "source": [
    "|Attribute       | Datatype     |\n",
    "| :------------- | ----------: |\n",
    "| Play | object   |\n",
    "| PlayerLinenumber   | float64 |\n",
    "|ActSceneLine| object|\n",
    "|Player| object|\n",
    "|PlayerLine | object||"
   ]
  },
  {
   "cell_type": "markdown",
   "metadata": {},
   "source": [
    "### __3. IDEAS__"
   ]
  },
  {
   "cell_type": "markdown",
   "metadata": {},
   "source": [
    "__3.1.__ To predict the player for a given player line using top three words from all lines and word used maximum in that line."
   ]
  },
  {
   "cell_type": "markdown",
   "metadata": {},
   "source": [
    "__3.2.__ To predict the player for a given player line from top three words from all lines and number of words in that line. "
   ]
  },
  {
   "cell_type": "markdown",
   "metadata": {},
   "source": [
    "### __4. LOADING THE DATASETS__"
   ]
  },
  {
   "cell_type": "markdown",
   "metadata": {},
   "source": [
    "__Load the libraries__"
   ]
  },
  {
   "cell_type": "code",
   "execution_count": 1,
   "metadata": {},
   "outputs": [],
   "source": [
    "import pandas as pd \n",
    "import numpy as np\n",
    "import matplotlib.pyplot as plt\n",
    "import seaborn as sns"
   ]
  },
  {
   "cell_type": "markdown",
   "metadata": {},
   "source": [
    "__Import the csv file of dataset__"
   ]
  },
  {
   "cell_type": "code",
   "execution_count": 2,
   "metadata": {},
   "outputs": [
    {
     "data": {
      "text/html": [
       "<div>\n",
       "<style scoped>\n",
       "    .dataframe tbody tr th:only-of-type {\n",
       "        vertical-align: middle;\n",
       "    }\n",
       "\n",
       "    .dataframe tbody tr th {\n",
       "        vertical-align: top;\n",
       "    }\n",
       "\n",
       "    .dataframe thead th {\n",
       "        text-align: right;\n",
       "    }\n",
       "</style>\n",
       "<table border=\"1\" class=\"dataframe\">\n",
       "  <thead>\n",
       "    <tr style=\"text-align: right;\">\n",
       "      <th></th>\n",
       "      <th>Dataline</th>\n",
       "      <th>Play</th>\n",
       "      <th>PlayerLinenumber</th>\n",
       "      <th>ActSceneLine</th>\n",
       "      <th>Player</th>\n",
       "      <th>PlayerLine</th>\n",
       "    </tr>\n",
       "  </thead>\n",
       "  <tbody>\n",
       "    <tr>\n",
       "      <th>0</th>\n",
       "      <td>1</td>\n",
       "      <td>Henry IV</td>\n",
       "      <td>NaN</td>\n",
       "      <td>NaN</td>\n",
       "      <td>NaN</td>\n",
       "      <td>ACT I</td>\n",
       "    </tr>\n",
       "    <tr>\n",
       "      <th>1</th>\n",
       "      <td>2</td>\n",
       "      <td>Henry IV</td>\n",
       "      <td>NaN</td>\n",
       "      <td>NaN</td>\n",
       "      <td>NaN</td>\n",
       "      <td>SCENE I. London. The palace.</td>\n",
       "    </tr>\n",
       "    <tr>\n",
       "      <th>2</th>\n",
       "      <td>3</td>\n",
       "      <td>Henry IV</td>\n",
       "      <td>NaN</td>\n",
       "      <td>NaN</td>\n",
       "      <td>NaN</td>\n",
       "      <td>Enter KING HENRY, LORD JOHN OF LANCASTER, the ...</td>\n",
       "    </tr>\n",
       "    <tr>\n",
       "      <th>3</th>\n",
       "      <td>4</td>\n",
       "      <td>Henry IV</td>\n",
       "      <td>1.0</td>\n",
       "      <td>1.1.1</td>\n",
       "      <td>KING HENRY IV</td>\n",
       "      <td>So shaken as we are, so wan with care,</td>\n",
       "    </tr>\n",
       "    <tr>\n",
       "      <th>4</th>\n",
       "      <td>5</td>\n",
       "      <td>Henry IV</td>\n",
       "      <td>1.0</td>\n",
       "      <td>1.1.2</td>\n",
       "      <td>KING HENRY IV</td>\n",
       "      <td>Find we a time for frighted peace to pant,</td>\n",
       "    </tr>\n",
       "  </tbody>\n",
       "</table>\n",
       "</div>"
      ],
      "text/plain": [
       "   Dataline      Play  PlayerLinenumber ActSceneLine         Player  \\\n",
       "0         1  Henry IV               NaN          NaN            NaN   \n",
       "1         2  Henry IV               NaN          NaN            NaN   \n",
       "2         3  Henry IV               NaN          NaN            NaN   \n",
       "3         4  Henry IV               1.0        1.1.1  KING HENRY IV   \n",
       "4         5  Henry IV               1.0        1.1.2  KING HENRY IV   \n",
       "\n",
       "                                          PlayerLine  \n",
       "0                                              ACT I  \n",
       "1                       SCENE I. London. The palace.  \n",
       "2  Enter KING HENRY, LORD JOHN OF LANCASTER, the ...  \n",
       "3             So shaken as we are, so wan with care,  \n",
       "4         Find we a time for frighted peace to pant,  "
      ]
     },
     "execution_count": 2,
     "metadata": {},
     "output_type": "execute_result"
    }
   ],
   "source": [
    "shake_data=pd.read_csv(\"Shakespeare_data.csv\")\n",
    "shake_data.head()"
   ]
  },
  {
   "cell_type": "markdown",
   "metadata": {},
   "source": [
    "### __5. DATA PREPARATION__"
   ]
  },
  {
   "cell_type": "markdown",
   "metadata": {},
   "source": [
    "__5.1 DATA CLEANING__"
   ]
  },
  {
   "cell_type": "markdown",
   "metadata": {},
   "source": [
    "__Drop the NaN rows__"
   ]
  },
  {
   "cell_type": "code",
   "execution_count": 3,
   "metadata": {},
   "outputs": [
    {
     "data": {
      "text/html": [
       "<div>\n",
       "<style scoped>\n",
       "    .dataframe tbody tr th:only-of-type {\n",
       "        vertical-align: middle;\n",
       "    }\n",
       "\n",
       "    .dataframe tbody tr th {\n",
       "        vertical-align: top;\n",
       "    }\n",
       "\n",
       "    .dataframe thead th {\n",
       "        text-align: right;\n",
       "    }\n",
       "</style>\n",
       "<table border=\"1\" class=\"dataframe\">\n",
       "  <thead>\n",
       "    <tr style=\"text-align: right;\">\n",
       "      <th></th>\n",
       "      <th>Dataline</th>\n",
       "      <th>Play</th>\n",
       "      <th>PlayerLinenumber</th>\n",
       "      <th>ActSceneLine</th>\n",
       "      <th>Player</th>\n",
       "      <th>PlayerLine</th>\n",
       "    </tr>\n",
       "  </thead>\n",
       "  <tbody>\n",
       "    <tr>\n",
       "      <th>3</th>\n",
       "      <td>4</td>\n",
       "      <td>Henry IV</td>\n",
       "      <td>1.0</td>\n",
       "      <td>1.1.1</td>\n",
       "      <td>KING HENRY IV</td>\n",
       "      <td>So shaken as we are, so wan with care,</td>\n",
       "    </tr>\n",
       "    <tr>\n",
       "      <th>4</th>\n",
       "      <td>5</td>\n",
       "      <td>Henry IV</td>\n",
       "      <td>1.0</td>\n",
       "      <td>1.1.2</td>\n",
       "      <td>KING HENRY IV</td>\n",
       "      <td>Find we a time for frighted peace to pant,</td>\n",
       "    </tr>\n",
       "    <tr>\n",
       "      <th>5</th>\n",
       "      <td>6</td>\n",
       "      <td>Henry IV</td>\n",
       "      <td>1.0</td>\n",
       "      <td>1.1.3</td>\n",
       "      <td>KING HENRY IV</td>\n",
       "      <td>And breathe short-winded accents of new broils</td>\n",
       "    </tr>\n",
       "    <tr>\n",
       "      <th>6</th>\n",
       "      <td>7</td>\n",
       "      <td>Henry IV</td>\n",
       "      <td>1.0</td>\n",
       "      <td>1.1.4</td>\n",
       "      <td>KING HENRY IV</td>\n",
       "      <td>To be commenced in strands afar remote.</td>\n",
       "    </tr>\n",
       "    <tr>\n",
       "      <th>7</th>\n",
       "      <td>8</td>\n",
       "      <td>Henry IV</td>\n",
       "      <td>1.0</td>\n",
       "      <td>1.1.5</td>\n",
       "      <td>KING HENRY IV</td>\n",
       "      <td>No more the thirsty entrance of this soil</td>\n",
       "    </tr>\n",
       "  </tbody>\n",
       "</table>\n",
       "</div>"
      ],
      "text/plain": [
       "   Dataline      Play  PlayerLinenumber ActSceneLine         Player  \\\n",
       "3         4  Henry IV               1.0        1.1.1  KING HENRY IV   \n",
       "4         5  Henry IV               1.0        1.1.2  KING HENRY IV   \n",
       "5         6  Henry IV               1.0        1.1.3  KING HENRY IV   \n",
       "6         7  Henry IV               1.0        1.1.4  KING HENRY IV   \n",
       "7         8  Henry IV               1.0        1.1.5  KING HENRY IV   \n",
       "\n",
       "                                       PlayerLine  \n",
       "3          So shaken as we are, so wan with care,  \n",
       "4      Find we a time for frighted peace to pant,  \n",
       "5  And breathe short-winded accents of new broils  \n",
       "6         To be commenced in strands afar remote.  \n",
       "7       No more the thirsty entrance of this soil  "
      ]
     },
     "execution_count": 3,
     "metadata": {},
     "output_type": "execute_result"
    }
   ],
   "source": [
    "shake_data=shake_data.dropna()\n",
    "shake_data.head()"
   ]
  },
  {
   "cell_type": "markdown",
   "metadata": {},
   "source": [
    "__Reset the index and drop the old index column__"
   ]
  },
  {
   "cell_type": "code",
   "execution_count": 4,
   "metadata": {},
   "outputs": [
    {
     "data": {
      "text/html": [
       "<div>\n",
       "<style scoped>\n",
       "    .dataframe tbody tr th:only-of-type {\n",
       "        vertical-align: middle;\n",
       "    }\n",
       "\n",
       "    .dataframe tbody tr th {\n",
       "        vertical-align: top;\n",
       "    }\n",
       "\n",
       "    .dataframe thead th {\n",
       "        text-align: right;\n",
       "    }\n",
       "</style>\n",
       "<table border=\"1\" class=\"dataframe\">\n",
       "  <thead>\n",
       "    <tr style=\"text-align: right;\">\n",
       "      <th></th>\n",
       "      <th>Dataline</th>\n",
       "      <th>Play</th>\n",
       "      <th>PlayerLinenumber</th>\n",
       "      <th>ActSceneLine</th>\n",
       "      <th>Player</th>\n",
       "      <th>PlayerLine</th>\n",
       "    </tr>\n",
       "  </thead>\n",
       "  <tbody>\n",
       "    <tr>\n",
       "      <th>0</th>\n",
       "      <td>4</td>\n",
       "      <td>Henry IV</td>\n",
       "      <td>1.0</td>\n",
       "      <td>1.1.1</td>\n",
       "      <td>KING HENRY IV</td>\n",
       "      <td>So shaken as we are, so wan with care,</td>\n",
       "    </tr>\n",
       "    <tr>\n",
       "      <th>1</th>\n",
       "      <td>5</td>\n",
       "      <td>Henry IV</td>\n",
       "      <td>1.0</td>\n",
       "      <td>1.1.2</td>\n",
       "      <td>KING HENRY IV</td>\n",
       "      <td>Find we a time for frighted peace to pant,</td>\n",
       "    </tr>\n",
       "    <tr>\n",
       "      <th>2</th>\n",
       "      <td>6</td>\n",
       "      <td>Henry IV</td>\n",
       "      <td>1.0</td>\n",
       "      <td>1.1.3</td>\n",
       "      <td>KING HENRY IV</td>\n",
       "      <td>And breathe short-winded accents of new broils</td>\n",
       "    </tr>\n",
       "    <tr>\n",
       "      <th>3</th>\n",
       "      <td>7</td>\n",
       "      <td>Henry IV</td>\n",
       "      <td>1.0</td>\n",
       "      <td>1.1.4</td>\n",
       "      <td>KING HENRY IV</td>\n",
       "      <td>To be commenced in strands afar remote.</td>\n",
       "    </tr>\n",
       "    <tr>\n",
       "      <th>4</th>\n",
       "      <td>8</td>\n",
       "      <td>Henry IV</td>\n",
       "      <td>1.0</td>\n",
       "      <td>1.1.5</td>\n",
       "      <td>KING HENRY IV</td>\n",
       "      <td>No more the thirsty entrance of this soil</td>\n",
       "    </tr>\n",
       "  </tbody>\n",
       "</table>\n",
       "</div>"
      ],
      "text/plain": [
       "   Dataline      Play  PlayerLinenumber ActSceneLine         Player  \\\n",
       "0         4  Henry IV               1.0        1.1.1  KING HENRY IV   \n",
       "1         5  Henry IV               1.0        1.1.2  KING HENRY IV   \n",
       "2         6  Henry IV               1.0        1.1.3  KING HENRY IV   \n",
       "3         7  Henry IV               1.0        1.1.4  KING HENRY IV   \n",
       "4         8  Henry IV               1.0        1.1.5  KING HENRY IV   \n",
       "\n",
       "                                       PlayerLine  \n",
       "0          So shaken as we are, so wan with care,  \n",
       "1      Find we a time for frighted peace to pant,  \n",
       "2  And breathe short-winded accents of new broils  \n",
       "3         To be commenced in strands afar remote.  \n",
       "4       No more the thirsty entrance of this soil  "
      ]
     },
     "execution_count": 4,
     "metadata": {},
     "output_type": "execute_result"
    }
   ],
   "source": [
    "shake_data=shake_data.reset_index()\n",
    "del shake_data['index']\n",
    "shake_data.head()"
   ]
  },
  {
   "cell_type": "markdown",
   "metadata": {},
   "source": [
    "__Printing the dimension of the dataset__"
   ]
  },
  {
   "cell_type": "code",
   "execution_count": 5,
   "metadata": {},
   "outputs": [
    {
     "name": "stdout",
     "output_type": "stream",
     "text": [
      "(105152, 6)\n"
     ]
    }
   ],
   "source": [
    "print(shake_data.shape)"
   ]
  },
  {
   "cell_type": "markdown",
   "metadata": {},
   "source": [
    "__Deleting the dataline and actsceneline column__"
   ]
  },
  {
   "cell_type": "code",
   "execution_count": 6,
   "metadata": {},
   "outputs": [
    {
     "data": {
      "text/html": [
       "<div>\n",
       "<style scoped>\n",
       "    .dataframe tbody tr th:only-of-type {\n",
       "        vertical-align: middle;\n",
       "    }\n",
       "\n",
       "    .dataframe tbody tr th {\n",
       "        vertical-align: top;\n",
       "    }\n",
       "\n",
       "    .dataframe thead th {\n",
       "        text-align: right;\n",
       "    }\n",
       "</style>\n",
       "<table border=\"1\" class=\"dataframe\">\n",
       "  <thead>\n",
       "    <tr style=\"text-align: right;\">\n",
       "      <th></th>\n",
       "      <th>Play</th>\n",
       "      <th>PlayerLinenumber</th>\n",
       "      <th>Player</th>\n",
       "      <th>PlayerLine</th>\n",
       "    </tr>\n",
       "  </thead>\n",
       "  <tbody>\n",
       "    <tr>\n",
       "      <th>0</th>\n",
       "      <td>Henry IV</td>\n",
       "      <td>1.0</td>\n",
       "      <td>KING HENRY IV</td>\n",
       "      <td>So shaken as we are, so wan with care,</td>\n",
       "    </tr>\n",
       "    <tr>\n",
       "      <th>1</th>\n",
       "      <td>Henry IV</td>\n",
       "      <td>1.0</td>\n",
       "      <td>KING HENRY IV</td>\n",
       "      <td>Find we a time for frighted peace to pant,</td>\n",
       "    </tr>\n",
       "    <tr>\n",
       "      <th>2</th>\n",
       "      <td>Henry IV</td>\n",
       "      <td>1.0</td>\n",
       "      <td>KING HENRY IV</td>\n",
       "      <td>And breathe short-winded accents of new broils</td>\n",
       "    </tr>\n",
       "    <tr>\n",
       "      <th>3</th>\n",
       "      <td>Henry IV</td>\n",
       "      <td>1.0</td>\n",
       "      <td>KING HENRY IV</td>\n",
       "      <td>To be commenced in strands afar remote.</td>\n",
       "    </tr>\n",
       "    <tr>\n",
       "      <th>4</th>\n",
       "      <td>Henry IV</td>\n",
       "      <td>1.0</td>\n",
       "      <td>KING HENRY IV</td>\n",
       "      <td>No more the thirsty entrance of this soil</td>\n",
       "    </tr>\n",
       "  </tbody>\n",
       "</table>\n",
       "</div>"
      ],
      "text/plain": [
       "       Play  PlayerLinenumber         Player  \\\n",
       "0  Henry IV               1.0  KING HENRY IV   \n",
       "1  Henry IV               1.0  KING HENRY IV   \n",
       "2  Henry IV               1.0  KING HENRY IV   \n",
       "3  Henry IV               1.0  KING HENRY IV   \n",
       "4  Henry IV               1.0  KING HENRY IV   \n",
       "\n",
       "                                       PlayerLine  \n",
       "0          So shaken as we are, so wan with care,  \n",
       "1      Find we a time for frighted peace to pant,  \n",
       "2  And breathe short-winded accents of new broils  \n",
       "3         To be commenced in strands afar remote.  \n",
       "4       No more the thirsty entrance of this soil  "
      ]
     },
     "execution_count": 6,
     "metadata": {},
     "output_type": "execute_result"
    }
   ],
   "source": [
    "del shake_data['Dataline']\n",
    "del shake_data['ActSceneLine']\n",
    "shake_data.head()"
   ]
  },
  {
   "cell_type": "markdown",
   "metadata": {},
   "source": [
    "__Printing the dimension of the dataset__"
   ]
  },
  {
   "cell_type": "code",
   "execution_count": 7,
   "metadata": {},
   "outputs": [
    {
     "name": "stdout",
     "output_type": "stream",
     "text": [
      "(105152, 4)\n"
     ]
    }
   ],
   "source": [
    "print(shake_data.shape)"
   ]
  },
  {
   "cell_type": "markdown",
   "metadata": {},
   "source": [
    "__5.2 FORMATTING__"
   ]
  },
  {
   "cell_type": "markdown",
   "metadata": {},
   "source": [
    "__Attributes and datatypes of the dataset__"
   ]
  },
  {
   "cell_type": "code",
   "execution_count": 8,
   "metadata": {},
   "outputs": [
    {
     "name": "stdout",
     "output_type": "stream",
     "text": [
      "Play  is  object\n",
      "PlayerLinenumber  is  float64\n",
      "Player  is  object\n",
      "PlayerLine  is  object\n"
     ]
    }
   ],
   "source": [
    "for column in shake_data.columns:\n",
    "    print(column, \" is \", shake_data[column].dtype.name)"
   ]
  },
  {
   "cell_type": "markdown",
   "metadata": {},
   "source": [
    "__5.3 VISUALIZATION__"
   ]
  },
  {
   "cell_type": "markdown",
   "metadata": {},
   "source": [
    "__Barplot for number of lines in each play__"
   ]
  },
  {
   "cell_type": "code",
   "execution_count": 9,
   "metadata": {},
   "outputs": [
    {
     "data": {
      "image/png": "[encoded data removed]",
      "text/plain": [
       "<Figure size 1440x720 with 1 Axes>"
      ]
     },
     "metadata": {
      "needs_background": "light"
     },
     "output_type": "display_data"
    }
   ],
   "source": [
    "shake_data.Play.value_counts()\n",
    "plt.figure(figsize=(20,10))\n",
    "g = sns.countplot(x=shake_data['Play'], data=shake_data)\n",
    "g.set_xticklabels(g.get_xticklabels(), rotation=60, ha=\"right\");\n",
    "g.set_title('Play vs Lines');"
   ]
  },
  {
   "cell_type": "markdown",
   "metadata": {},
   "source": [
    "__Barplot for Player vs number of lines for each play__"
   ]
  },
  {
   "cell_type": "code",
   "execution_count": 10,
   "metadata": {
    "scrolled": true
   },
   "outputs": [],
   "source": [
    "play_data=shake_data.Play.unique()\n",
    "list1 = []\n",
    "list2 =[]\n",
    "for i in play_data:\n",
    "    i_bar=shake_data.groupby(['Play']).get_group(i)\n",
    "    player_data=i_bar.Player.unique()\n",
    "    for j in player_data:\n",
    "        j_bar=i_bar.groupby(['Player']).get_group(j)\n",
    "        list1.append(j_bar.Player.unique()[0])\n",
    "        list2.append(j_bar.PlayerLinenumber.max())\n",
    "    df2 = pd.DataFrame(list(zip(list1, list2)), columns=['Player', 'Lines'])\n",
    "    plt.figure(figsize=(20,5))\n",
    "    i = sns.barplot(x=df2.Player, y=df2.Lines, data=df2)\n",
    "    i.set_xticklabels(i.get_xticklabels(), rotation=60, ha=\"right\"); \n",
    "    i.set_title(str(i_bar.Play.unique()[0])+\" Players vs Lines\");\n",
    "    plt.savefig(str(i_bar.Play.unique()[0])+\".png\",dpi=250)\n",
    "    plt.close()\n",
    "    list1.clear()\n",
    "    list2.clear()\n",
    "    df2=df2.sort_values(['Lines'], ascending=[False])\n",
    "    df2 = df2[df2['Lines'] <= (df2['Lines'].max()/4)]\n",
    "    df2=df2.reset_index()\n",
    "    df2.drop(['index'], inplace=True, axis=1)\n",
    "    for k in range(len(df2)):\n",
    "        shake_data.drop(shake_data.Player[shake_data['Player']==str(df2['Player'][k])].index, inplace=True)"
   ]
  },
  {
   "cell_type": "markdown",
   "metadata": {},
   "source": [
    "In all the plays, the players with less than one-fourth of the player with maximum number of lines for each play is removed from the original dataset."
   ]
  },
  {
   "cell_type": "markdown",
   "metadata": {},
   "source": [
    "__Deleting PlayerLinernumber to release memory__"
   ]
  },
  {
   "cell_type": "code",
   "execution_count": 11,
   "metadata": {},
   "outputs": [
    {
     "name": "stdout",
     "output_type": "stream",
     "text": [
      "(85171, 3)\n"
     ]
    }
   ],
   "source": [
    "del shake_data['PlayerLinenumber']\n",
    "print(shake_data.shape)"
   ]
  },
  {
   "cell_type": "markdown",
   "metadata": {},
   "source": [
    "__5.4 FEATURE ENGINEERING__"
   ]
  },
  {
   "cell_type": "markdown",
   "metadata": {},
   "source": [
    "__Three highly used words for each player__"
   ]
  },
  {
   "cell_type": "code",
   "execution_count": 12,
   "metadata": {},
   "outputs": [
    {
     "data": {
      "text/html": [
       "<div>\n",
       "<style scoped>\n",
       "    .dataframe tbody tr th:only-of-type {\n",
       "        vertical-align: middle;\n",
       "    }\n",
       "\n",
       "    .dataframe tbody tr th {\n",
       "        vertical-align: top;\n",
       "    }\n",
       "\n",
       "    .dataframe thead th {\n",
       "        text-align: right;\n",
       "    }\n",
       "</style>\n",
       "<table border=\"1\" class=\"dataframe\">\n",
       "  <thead>\n",
       "    <tr style=\"text-align: right;\">\n",
       "      <th></th>\n",
       "      <th>Play</th>\n",
       "      <th>Player</th>\n",
       "      <th>PlayerLine</th>\n",
       "      <th>Words Count</th>\n",
       "    </tr>\n",
       "  </thead>\n",
       "  <tbody>\n",
       "    <tr>\n",
       "      <th>108</th>\n",
       "      <td>Henry IV</td>\n",
       "      <td>FALSTAFF</td>\n",
       "      <td>Now, Hal, what time of day is it, lad?</td>\n",
       "      <td>I the a</td>\n",
       "    </tr>\n",
       "    <tr>\n",
       "      <th>120</th>\n",
       "      <td>Henry IV</td>\n",
       "      <td>FALSTAFF</td>\n",
       "      <td>Indeed, you come near me now, Hal, for we that...</td>\n",
       "      <td>I the a</td>\n",
       "    </tr>\n",
       "    <tr>\n",
       "      <th>121</th>\n",
       "      <td>Henry IV</td>\n",
       "      <td>FALSTAFF</td>\n",
       "      <td>purses go by the moon and the seven stars, and...</td>\n",
       "      <td>I the a</td>\n",
       "    </tr>\n",
       "    <tr>\n",
       "      <th>122</th>\n",
       "      <td>Henry IV</td>\n",
       "      <td>FALSTAFF</td>\n",
       "      <td>by Phoebus, he,'that wandering knight so fair....</td>\n",
       "      <td>I the a</td>\n",
       "    </tr>\n",
       "    <tr>\n",
       "      <th>123</th>\n",
       "      <td>Henry IV</td>\n",
       "      <td>FALSTAFF</td>\n",
       "      <td>I prithee, sweet wag, when thou art king, as, God</td>\n",
       "      <td>I the a</td>\n",
       "    </tr>\n",
       "  </tbody>\n",
       "</table>\n",
       "</div>"
      ],
      "text/plain": [
       "         Play    Player                                         PlayerLine  \\\n",
       "108  Henry IV  FALSTAFF             Now, Hal, what time of day is it, lad?   \n",
       "120  Henry IV  FALSTAFF  Indeed, you come near me now, Hal, for we that...   \n",
       "121  Henry IV  FALSTAFF  purses go by the moon and the seven stars, and...   \n",
       "122  Henry IV  FALSTAFF  by Phoebus, he,'that wandering knight so fair....   \n",
       "123  Henry IV  FALSTAFF  I prithee, sweet wag, when thou art king, as, God   \n",
       "\n",
       "    Words Count  \n",
       "108     I the a  \n",
       "120     I the a  \n",
       "121     I the a  \n",
       "122     I the a  \n",
       "123     I the a  "
      ]
     },
     "execution_count": 12,
     "metadata": {},
     "output_type": "execute_result"
    }
   ],
   "source": [
    "# list for storing the player\n",
    "player_count = []\n",
    "# list for storing three most used words\n",
    "words_used =[]\n",
    "# new column for storing three most used words\n",
    "shake_data['Words Count'] = ''\n",
    "# assigning three most words in word count column for each row with respect to the player\n",
    "for i in play_data:\n",
    "    i_bar=shake_data.groupby(['Play']).get_group(i)\n",
    "    player_data=i_bar.Player.unique()\n",
    "    for j in player_data:\n",
    "        j_bar=i_bar.groupby(['Player']).get_group(j)\n",
    "        player_count.append(j_bar.Player.unique()[0])\n",
    "        j_bar=j_bar.PlayerLine.str.split(expand=True).stack().value_counts().to_frame()\n",
    "        j_bar=j_bar.reset_index()\n",
    "        j_bar.drop(j_bar.index[0])\n",
    "        j_bar=j_bar.reset_index()\n",
    "        j_bar.drop(['level_0'], inplace=True, axis=1)\n",
    "        j_bar.rename(columns={0: \"Counts\", \"index\": \"Words\"}, inplace=True)\n",
    "        words_array=str(j_bar.Words.iloc[:3].values)[1:-1] \n",
    "        words_array=words_array.replace(\"'\",\"\")\n",
    "        words_used.append(words_array)\n",
    "        j_bar = pd.DataFrame(list(zip(player_count, words_used)), columns=['Player', 'Lines'])\n",
    "        shake_data.loc[(shake_data['Player'] == j) & (shake_data['Play']==i), ['Words Count']] = words_array\n",
    "shake_data.head()"
   ]
  },
  {
   "cell_type": "markdown",
   "metadata": {},
   "source": [
    "__Counting number of words for each player from the respective playerline__"
   ]
  },
  {
   "cell_type": "code",
   "execution_count": 13,
   "metadata": {},
   "outputs": [
    {
     "data": {
      "text/html": [
       "<div>\n",
       "<style scoped>\n",
       "    .dataframe tbody tr th:only-of-type {\n",
       "        vertical-align: middle;\n",
       "    }\n",
       "\n",
       "    .dataframe tbody tr th {\n",
       "        vertical-align: top;\n",
       "    }\n",
       "\n",
       "    .dataframe thead th {\n",
       "        text-align: right;\n",
       "    }\n",
       "</style>\n",
       "<table border=\"1\" class=\"dataframe\">\n",
       "  <thead>\n",
       "    <tr style=\"text-align: right;\">\n",
       "      <th></th>\n",
       "      <th>Play</th>\n",
       "      <th>Player</th>\n",
       "      <th>PlayerLine</th>\n",
       "      <th>Words Count</th>\n",
       "      <th>Number</th>\n",
       "    </tr>\n",
       "  </thead>\n",
       "  <tbody>\n",
       "    <tr>\n",
       "      <th>108</th>\n",
       "      <td>Henry IV</td>\n",
       "      <td>FALSTAFF</td>\n",
       "      <td>Now, Hal, what time of day is it, lad?</td>\n",
       "      <td>I the a</td>\n",
       "      <td>9</td>\n",
       "    </tr>\n",
       "    <tr>\n",
       "      <th>120</th>\n",
       "      <td>Henry IV</td>\n",
       "      <td>FALSTAFF</td>\n",
       "      <td>Indeed, you come near me now, Hal, for we that...</td>\n",
       "      <td>I the a</td>\n",
       "      <td>11</td>\n",
       "    </tr>\n",
       "    <tr>\n",
       "      <th>121</th>\n",
       "      <td>Henry IV</td>\n",
       "      <td>FALSTAFF</td>\n",
       "      <td>purses go by the moon and the seven stars, and...</td>\n",
       "      <td>I the a</td>\n",
       "      <td>11</td>\n",
       "    </tr>\n",
       "    <tr>\n",
       "      <th>122</th>\n",
       "      <td>Henry IV</td>\n",
       "      <td>FALSTAFF</td>\n",
       "      <td>by Phoebus, he,'that wandering knight so fair....</td>\n",
       "      <td>I the a</td>\n",
       "      <td>8</td>\n",
       "    </tr>\n",
       "    <tr>\n",
       "      <th>123</th>\n",
       "      <td>Henry IV</td>\n",
       "      <td>FALSTAFF</td>\n",
       "      <td>I prithee, sweet wag, when thou art king, as, God</td>\n",
       "      <td>I the a</td>\n",
       "      <td>10</td>\n",
       "    </tr>\n",
       "  </tbody>\n",
       "</table>\n",
       "</div>"
      ],
      "text/plain": [
       "         Play    Player                                         PlayerLine  \\\n",
       "108  Henry IV  FALSTAFF             Now, Hal, what time of day is it, lad?   \n",
       "120  Henry IV  FALSTAFF  Indeed, you come near me now, Hal, for we that...   \n",
       "121  Henry IV  FALSTAFF  purses go by the moon and the seven stars, and...   \n",
       "122  Henry IV  FALSTAFF  by Phoebus, he,'that wandering knight so fair....   \n",
       "123  Henry IV  FALSTAFF  I prithee, sweet wag, when thou art king, as, God   \n",
       "\n",
       "    Words Count Number  \n",
       "108     I the a      9  \n",
       "120     I the a     11  \n",
       "121     I the a     11  \n",
       "122     I the a      8  \n",
       "123     I the a     10  "
      ]
     },
     "execution_count": 13,
     "metadata": {},
     "output_type": "execute_result"
    }
   ],
   "source": [
    "# create number column to count number of words in playerline for all rows\n",
    "shake_data['Number'] = ''\n",
    "# assinging number of words in playerline in number column\n",
    "for i in range(len(shake_data)):\n",
    "            x=shake_data.iloc[i].PlayerLine.lower()\n",
    "            words = len(x.split())\n",
    "            shake_data.loc[(shake_data['PlayerLine'] == shake_data.iloc[i].PlayerLine), ['Number']] = words\n",
    "shake_data.head()"
   ]
  },
  {
   "cell_type": "markdown",
   "metadata": {},
   "source": [
    "__Finding the highest repeated word of a player speaks for each line of the player__"
   ]
  },
  {
   "cell_type": "code",
   "execution_count": 14,
   "metadata": {},
   "outputs": [
    {
     "data": {
      "text/html": [
       "<div>\n",
       "<style scoped>\n",
       "    .dataframe tbody tr th:only-of-type {\n",
       "        vertical-align: middle;\n",
       "    }\n",
       "\n",
       "    .dataframe tbody tr th {\n",
       "        vertical-align: top;\n",
       "    }\n",
       "\n",
       "    .dataframe thead th {\n",
       "        text-align: right;\n",
       "    }\n",
       "</style>\n",
       "<table border=\"1\" class=\"dataframe\">\n",
       "  <thead>\n",
       "    <tr style=\"text-align: right;\">\n",
       "      <th></th>\n",
       "      <th>Play</th>\n",
       "      <th>Player</th>\n",
       "      <th>PlayerLine</th>\n",
       "      <th>Words Count</th>\n",
       "      <th>Number</th>\n",
       "      <th>Maxword</th>\n",
       "    </tr>\n",
       "  </thead>\n",
       "  <tbody>\n",
       "    <tr>\n",
       "      <th>108</th>\n",
       "      <td>Henry IV</td>\n",
       "      <td>FALSTAFF</td>\n",
       "      <td>Now, Hal, what time of day is it, lad?</td>\n",
       "      <td>I the a</td>\n",
       "      <td>9</td>\n",
       "      <td>day</td>\n",
       "    </tr>\n",
       "    <tr>\n",
       "      <th>120</th>\n",
       "      <td>Henry IV</td>\n",
       "      <td>FALSTAFF</td>\n",
       "      <td>Indeed, you come near me now, Hal, for we that...</td>\n",
       "      <td>I the a</td>\n",
       "      <td>11</td>\n",
       "      <td>come</td>\n",
       "    </tr>\n",
       "    <tr>\n",
       "      <th>121</th>\n",
       "      <td>Henry IV</td>\n",
       "      <td>FALSTAFF</td>\n",
       "      <td>purses go by the moon and the seven stars, and...</td>\n",
       "      <td>I the a</td>\n",
       "      <td>11</td>\n",
       "      <td>and</td>\n",
       "    </tr>\n",
       "    <tr>\n",
       "      <th>122</th>\n",
       "      <td>Henry IV</td>\n",
       "      <td>FALSTAFF</td>\n",
       "      <td>by Phoebus, he,'that wandering knight so fair....</td>\n",
       "      <td>I the a</td>\n",
       "      <td>8</td>\n",
       "      <td>and,</td>\n",
       "    </tr>\n",
       "    <tr>\n",
       "      <th>123</th>\n",
       "      <td>Henry IV</td>\n",
       "      <td>FALSTAFF</td>\n",
       "      <td>I prithee, sweet wag, when thou art king, as, God</td>\n",
       "      <td>I the a</td>\n",
       "      <td>10</td>\n",
       "      <td>art</td>\n",
       "    </tr>\n",
       "  </tbody>\n",
       "</table>\n",
       "</div>"
      ],
      "text/plain": [
       "         Play    Player                                         PlayerLine  \\\n",
       "108  Henry IV  FALSTAFF             Now, Hal, what time of day is it, lad?   \n",
       "120  Henry IV  FALSTAFF  Indeed, you come near me now, Hal, for we that...   \n",
       "121  Henry IV  FALSTAFF  purses go by the moon and the seven stars, and...   \n",
       "122  Henry IV  FALSTAFF  by Phoebus, he,'that wandering knight so fair....   \n",
       "123  Henry IV  FALSTAFF  I prithee, sweet wag, when thou art king, as, God   \n",
       "\n",
       "    Words Count Number Maxword  \n",
       "108     I the a      9     day  \n",
       "120     I the a     11    come  \n",
       "121     I the a     11     and  \n",
       "122     I the a      8    and,  \n",
       "123     I the a     10     art  "
      ]
     },
     "execution_count": 14,
     "metadata": {},
     "output_type": "execute_result"
    }
   ],
   "source": [
    "# create maxword column to count number of words in playerline for that rows\n",
    "shake_data['Maxword'] = ''\n",
    "# assigning maximum used word of a playline in the row\n",
    "for i in range(len(shake_data)):\n",
    "            x=shake_data.iloc[i].PlayerLine.lower()\n",
    "            word_list=[]\n",
    "            count_list=[]\n",
    "            def word_count(str):\n",
    "                counts = dict()\n",
    "                words = str.split()\n",
    "                for word in words:\n",
    "                    word_list.append(word)\n",
    "                    if word in counts:\n",
    "                        counts[word] += 1\n",
    "                    else:\n",
    "                        counts[word] = 1\n",
    "                    count_list.append(counts[word])\n",
    "                return counts\n",
    "            word_count(x)\n",
    "            words_bar = pd.DataFrame(list(zip(word_list, count_list)), columns=['Word', 'Count'])\n",
    "            words_bar=words_bar.sort_values(['Count', 'Word'], ascending=[False, True])\n",
    "            words_bar=words_bar.reset_index()\n",
    "            words_bar.drop(['index'], inplace=True, axis=1)\n",
    "            words_bar=str(words_bar['Word'][0])\n",
    "            shake_data.loc[(shake_data['PlayerLine'] == shake_data.iloc[i].PlayerLine), ['Maxword']] = str(words_bar)\n",
    "shake_data.head()"
   ]
  },
  {
   "cell_type": "markdown",
   "metadata": {},
   "source": [
    "__Dropping columns play and playerline to free memory__"
   ]
  },
  {
   "cell_type": "code",
   "execution_count": 15,
   "metadata": {},
   "outputs": [
    {
     "data": {
      "text/html": [
       "<div>\n",
       "<style scoped>\n",
       "    .dataframe tbody tr th:only-of-type {\n",
       "        vertical-align: middle;\n",
       "    }\n",
       "\n",
       "    .dataframe tbody tr th {\n",
       "        vertical-align: top;\n",
       "    }\n",
       "\n",
       "    .dataframe thead th {\n",
       "        text-align: right;\n",
       "    }\n",
       "</style>\n",
       "<table border=\"1\" class=\"dataframe\">\n",
       "  <thead>\n",
       "    <tr style=\"text-align: right;\">\n",
       "      <th></th>\n",
       "      <th>Player</th>\n",
       "      <th>Words Count</th>\n",
       "      <th>Number</th>\n",
       "      <th>Maxword</th>\n",
       "    </tr>\n",
       "  </thead>\n",
       "  <tbody>\n",
       "    <tr>\n",
       "      <th>108</th>\n",
       "      <td>FALSTAFF</td>\n",
       "      <td>I the a</td>\n",
       "      <td>9</td>\n",
       "      <td>day</td>\n",
       "    </tr>\n",
       "    <tr>\n",
       "      <th>120</th>\n",
       "      <td>FALSTAFF</td>\n",
       "      <td>I the a</td>\n",
       "      <td>11</td>\n",
       "      <td>come</td>\n",
       "    </tr>\n",
       "    <tr>\n",
       "      <th>121</th>\n",
       "      <td>FALSTAFF</td>\n",
       "      <td>I the a</td>\n",
       "      <td>11</td>\n",
       "      <td>and</td>\n",
       "    </tr>\n",
       "    <tr>\n",
       "      <th>122</th>\n",
       "      <td>FALSTAFF</td>\n",
       "      <td>I the a</td>\n",
       "      <td>8</td>\n",
       "      <td>and,</td>\n",
       "    </tr>\n",
       "    <tr>\n",
       "      <th>123</th>\n",
       "      <td>FALSTAFF</td>\n",
       "      <td>I the a</td>\n",
       "      <td>10</td>\n",
       "      <td>art</td>\n",
       "    </tr>\n",
       "  </tbody>\n",
       "</table>\n",
       "</div>"
      ],
      "text/plain": [
       "       Player Words Count Number Maxword\n",
       "108  FALSTAFF     I the a      9     day\n",
       "120  FALSTAFF     I the a     11    come\n",
       "121  FALSTAFF     I the a     11     and\n",
       "122  FALSTAFF     I the a      8    and,\n",
       "123  FALSTAFF     I the a     10     art"
      ]
     },
     "execution_count": 15,
     "metadata": {},
     "output_type": "execute_result"
    }
   ],
   "source": [
    "del shake_data['Play']\n",
    "del shake_data['PlayerLine']\n",
    "shake_data.head()"
   ]
  },
  {
   "cell_type": "markdown",
   "metadata": {},
   "source": [
    "__5.5 CLASSIFICATION__"
   ]
  },
  {
   "cell_type": "markdown",
   "metadata": {},
   "source": [
    "__5.5.1 To predict the player for a given player line using top three words from all lines and word used maximum in that line.__"
   ]
  },
  {
   "cell_type": "markdown",
   "metadata": {},
   "source": [
    "__Train, test and validation dataset for finding players from overall top three words and top word of each line__"
   ]
  },
  {
   "cell_type": "code",
   "execution_count": 30,
   "metadata": {},
   "outputs": [],
   "source": [
    "from numpy import mean\n",
    "from numpy import std\n",
    "from pandas import read_csv\n",
    "from sklearn.model_selection import train_test_split\n",
    "from sklearn.linear_model import LogisticRegression\n",
    "from sklearn.preprocessing import OneHotEncoder\n",
    "from sklearn.preprocessing import LabelEncoder\n",
    "from sklearn.preprocessing import OrdinalEncoder\n",
    "from sklearn.metrics import accuracy_score\n",
    "from sklearn.model_selection import train_test_split\n",
    "train_ratio = 0.8\n",
    "validation_ratio = 0.1\n",
    "test_ratio = 0.1\n",
    "# define one hot encoding for the categorical independent variables\n",
    "encoder = OneHotEncoder(sparse=False)\n",
    "# transform data\n",
    "x = encoder.fit_transform(shaken_data[['Words Count','Maxword']])\n",
    "\n",
    "label_encoder = LabelEncoder()\n",
    "y = label_encoder.fit_transform(shaken_data['Player'])\n",
    "\n",
    "x_train, x_test, y_train, y_test = train_test_split(x, y, test_size=1 - train_ratio)\n",
    "\n",
    "# test = 10% of the initial data set\n",
    "# validation = 10% of the initial data set\n",
    "x_val, x_test, y_val, y_test = train_test_split(x_test, y_test, test_size=test_ratio/(test_ratio + validation_ratio)) "
   ]
  },
  {
   "cell_type": "markdown",
   "metadata": {},
   "source": [
    "__Logistic regression for finding the player from overall top three words and top word of each line__"
   ]
  },
  {
   "cell_type": "code",
   "execution_count": 31,
   "metadata": {},
   "outputs": [
    {
     "name": "stdout",
     "output_type": "stream",
     "text": [
      "Testing Accuracy: 87.1\n",
      "Validation Accuracy: 86.4\n"
     ]
    }
   ],
   "source": [
    "from sklearn.linear_model import LogisticRegression\n",
    "from sklearn.metrics import accuracy_score\n",
    "clf = LogisticRegression(max_iter=61000).fit(x_train, y_train)\n",
    "y_pred=clf.predict(x_test)\n",
    "# Model Accuracy for test dataset\n",
    "print(\"Testing Accuracy:\",accuracy_score(y_test, y_pred)*100)\n",
    "\n",
    "y_pred = clf.predict(x_val)\n",
    "# Model Accuracy for validation dataset\n",
    "print(\"Validation Accuracy:\",accuracy_score(y_val, y_pred)*100)"
   ]
  },
  {
   "cell_type": "markdown",
   "metadata": {},
   "source": [
    "__Decision tree classifier for finding the player from overall top three words and top word of each line__"
   ]
  },
  {
   "cell_type": "code",
   "execution_count": 32,
   "metadata": {},
   "outputs": [
    {
     "name": "stdout",
     "output_type": "stream",
     "text": [
      "Testing Accuracy: 87.0\n",
      "Validation Accuracy: 86.2\n"
     ]
    }
   ],
   "source": [
    "from sklearn import tree\n",
    "from sklearn.datasets import load_iris\n",
    "clf = tree.DecisionTreeClassifier()\n",
    "clf = clf.fit(x_train, y_train)\n",
    "y_pred = clf.predict(x_test)\n",
    "# Model Accuracy for test dataset\n",
    "print(\"Testing Accuracy:\",accuracy_score(y_test, y_pred)*100)\n",
    "\n",
    "y_pred = clf.predict(x_val)\n",
    "# Model Accuracy for validation dataset\n",
    "print(\"Validation Accuracy:\",accuracy_score(y_val, y_pred)*100)"
   ]
  },
  {
   "cell_type": "markdown",
   "metadata": {},
   "source": [
    "The player predicted using the overall top three words and top word of each line has higher accuracy in logistic regression than in decision tree."
   ]
  },
  {
   "cell_type": "markdown",
   "metadata": {},
   "source": [
    "__5.5.2 To predict the player for a given player line from top three words from all lines and number of words in that line.__ "
   ]
  },
  {
   "cell_type": "markdown",
   "metadata": {},
   "source": [
    "__Train, test and validation dataset for finding players from overall top three words and number of words in each line__"
   ]
  },
  {
   "cell_type": "code",
   "execution_count": 33,
   "metadata": {},
   "outputs": [],
   "source": [
    "train_ratio = 0.8\n",
    "validation_ratio = 0.1\n",
    "test_ratio = 0.1\n",
    "\n",
    "# define one hot encoding and transformation\n",
    "encoder = OneHotEncoder(sparse=False)\n",
    "x = encoder.fit_transform(shake_data[['Number','Words Count']])\n",
    "\n",
    "# define label encoding and transformation\n",
    "label_encoder = LabelEncoder()\n",
    "y = label_encoder.fit_transform(shake_data['Player'])\n",
    "\n",
    "# train = 80% of the entire data set\n",
    "x_train, x_test, y_train, y_test = train_test_split(x, y, test_size=1 - train_ratio)\n",
    "\n",
    "# test = 10% of the initial data set\n",
    "# validation = 10% of the initial data set\n",
    "x_val, x_test, y_val, y_test = train_test_split(x_test, y_test, test_size=test_ratio/(test_ratio + validation_ratio))"
   ]
  },
  {
   "cell_type": "markdown",
   "metadata": {},
   "source": [
    "__Logistic regression for finding the player from overall top three words and number of words in each line__"
   ]
  },
  {
   "cell_type": "code",
   "execution_count": 37,
   "metadata": {},
   "outputs": [
    {
     "name": "stdout",
     "output_type": "stream",
     "text": [
      "Testing Accuracy: 46.47804648978634\n",
      "Validation Accuracy: 46.44827991076671\n"
     ]
    }
   ],
   "source": [
    "from sklearn.linear_model import LogisticRegression\n",
    "from sklearn.metrics import accuracy_score\n",
    "clf = LogisticRegression(max_iter=61000).fit(x_train, y_train)\n",
    "y_pred=clf.predict(x_test)\n",
    "# Model Accuracy for test dataset\n",
    "print(\"Testing Accuracy:\",accuracy_score(y_test, y_pred)*100)\n",
    "\n",
    "y_pred = clf.predict(x_val)\n",
    "# Model Accuracy for validation dataset\n",
    "print(\"Validation Accuracy:\",accuracy_score(y_val, y_pred)*100)"
   ]
  },
  {
   "cell_type": "markdown",
   "metadata": {},
   "source": [
    "__Decision trees classifier for finding the player from overall top three words and number of words in each line__"
   ]
  },
  {
   "cell_type": "code",
   "execution_count": 40,
   "metadata": {},
   "outputs": [
    {
     "name": "stdout",
     "output_type": "stream",
     "text": [
      "Testing Accuracy: 46.43108710965016\n",
      "Validation Accuracy: 46.43653868733122\n"
     ]
    }
   ],
   "source": [
    "from sklearn import tree\n",
    "from sklearn.datasets import load_iris\n",
    "clf_d = tree.DecisionTreeClassifier()\n",
    "clf_d= clf_d.fit(x_train, y_train)\n",
    "y_pred = clf_d.predict(x_test)\n",
    "# Model Accuracy for test set\n",
    "print(\"Testing Accuracy:\",accuracy_score(y_test, y_pred)*100)\n",
    "y_pred = clf.predict(x_val)\n",
    "# Model Accuracy for validation set\n",
    "print(\"Validation Accuracy:\",accuracy_score(y_val, y_pred)*100)"
   ]
  },
  {
   "cell_type": "markdown",
   "metadata": {},
   "source": [
    "The player predicted using the overall top three words and top word of each line has higher accuracy in logistic regression than in decision tree."
   ]
  },
  {
   "cell_type": "markdown",
   "metadata": {},
   "source": [
    "__6. Results__"
   ]
  },
  {
   "cell_type": "markdown",
   "metadata": {},
   "source": [
    "Predicting the player using overall top three words and most used word in each line gives more accuracy than predicting using overall top three words and number of words in each line."
   ]
  }
 ],
 "metadata": {
  "environment": {
   "name": "common-cpu.m56",
   "type": "gcloud",
   "uri": "gcr.io/deeplearning-platform-release/base-cpu:m56"
  },
  "kernelspec": {
   "display_name": "Python 3",
   "language": "python",
   "name": "python3"
  },
  "language_info": {
   "codemirror_mode": {
    "name": "ipython",
    "version": 3
   },
   "file_extension": ".py",
   "mimetype": "text/x-python",
   "name": "python",
   "nbconvert_exporter": "python",
   "pygments_lexer": "ipython3",
   "version": "3.8.3"
  }
 },
 "nbformat": 4,
 "nbformat_minor": 4
}
